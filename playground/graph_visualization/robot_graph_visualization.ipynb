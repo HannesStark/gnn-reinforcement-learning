{
 "cells": [
  {
   "cell_type": "markdown",
   "metadata": {},
   "source": [
    "# Prerequisites\n",
    "Before you can execute this notebook you'll need the graph logs which you can generate by running the `nervenet_graph_generation.py` in the `NerveNet` subfolder"
   ]
  },
  {
   "cell_type": "code",
   "execution_count": 1,
   "metadata": {},
   "outputs": [],
   "source": [
    "import pandas as pd\n",
    "import json\n",
    "import os\n",
    "from pathlib import Path\n",
    "import matplotlib.pyplot as plt\n",
    "import numpy as np\n",
    "import torch\n",
    "import torch_sparse\n",
    "import networkx as nx"
   ]
  },
  {
   "cell_type": "code",
   "execution_count": 7,
   "metadata": {},
   "outputs": [],
   "source": [
    "from NerveNet.graph_util.mujoco_parser import parse_mujoco_graph\n",
    "from NerveNet.graph_util.mujoco_parser_settings import  RootRelationOption"
   ]
  },
  {
   "cell_type": "code",
   "execution_count": 8,
   "metadata": {},
   "outputs": [],
   "source": [
    "#some settings\n",
    "edge_colors = {\n",
    "    10:\"blue\", # root-body\n",
    "    3:\"green\", # body-body\n",
    "    6:\"blue\", # joint-body\n",
    "}\n",
    "\n",
    "def visualize_task_graph(task_name:str,\n",
    "                         figsize=(10, 10),\n",
    "                         use_sibling_relations: bool = True,\n",
    "                         drop_body_nodes: bool = False,\n",
    "                         root_relation_option: RootRelationOption = RootRelationOption.BODY):\n",
    "    fig = plt.figure(figsize=figsize)\n",
    "    \n",
    "    task_log = parse_mujoco_graph(task_name=task_name, \n",
    "        use_sibling_relations=use_sibling_relations,\n",
    "        root_relation_option=root_relation_option,\n",
    "        drop_body_nodes= drop_body_nodes)\n",
    "    \n",
    "    node_colors = {\n",
    "        \"red\": task_log[\"node_type_dict\"][\"root\"],\n",
    "        \"blue\": task_log[\"node_type_dict\"][\"joint\"],\n",
    "        \"black\": task_log[\"node_type_dict\"][\"body\"],\n",
    "    }\n",
    "\n",
    "    node_names = {node[\"id\"]: node[\"raw_name\"] for node in task_log[\"tree\"] if \"raw_name\" in node.keys()}\n",
    "    node_names[0] = \"root\"\n",
    "    \n",
    "    # Generate graph structure\n",
    "    G = nx.Graph()\n",
    "    for i in range(task_log[\"num_nodes\"]):\n",
    "        G.add_node(i)\n",
    "        for j in range(i, task_log[\"num_nodes\"]):\n",
    "            if task_log[\"relation_matrix\"][i][j] != 0:\n",
    "                G.add_edge(i, j)\n",
    "    \n",
    "    pos = nx.spring_layout(G)#, pos={0: np.array([ 0, 0])})\n",
    "\n",
    "    options = {\"node_size\": 600, \"alpha\": 0.8}\n",
    "    for color, nodes in node_colors.items():\n",
    "        nx.draw_networkx_nodes(G, pos, nodelist=nodes, node_color=color, **options)\n",
    "        nx.draw_networkx_nodes(G, pos, nodelist=nodes, node_color=color, **options)\n",
    "\n",
    "\n",
    "    nx.draw_networkx_edges(G, pos, width=1.0, alpha=0.5)\n",
    "\n",
    "    for p in pos:  # raise text positions\n",
    "        pos[p][1] += 0.055\n",
    "    nx.draw_networkx_labels(G, pos, node_names, font_size=20)\n",
    "    \n",
    "    plt.savefig('robot.png')\n",
    "    plt.show()\n",
    "    return task_log"
   ]
  },
  {
   "cell_type": "code",
   "execution_count": 9,
   "metadata": {},
   "outputs": [],
   "source": [
    "#ant_log = visualize_task_graph(\"AntS-v1\")"
   ]
  },
  {
   "cell_type": "code",
   "execution_count": 10,
   "metadata": {},
   "outputs": [],
   "source": [
    "# ant_bullet_log = visualize_task_graph(\"AntBulletEnv-v0\",\n",
    "#                                         figsize=(20,20),\n",
    "#                                         use_sibling_relations = True,\n",
    "#                                         root_relation_option = RootRelationOption.NONE\n",
    "#                                         )"
   ]
  },
  {
   "cell_type": "code",
   "execution_count": 11,
   "outputs": [
    {
     "output_type": "stream",
     "name": "stderr",
     "text": [
      "/home/tsbau/miniconda3/lib/python3.8/site-packages/gym/logger.py:30: UserWarning: \u001b[33mWARN: Box bound precision lowered by casting to float32\u001b[0m\n  warnings.warn(colorize('%s: %s'%('WARN', msg % args), 'yellow'))\n"
     ]
    },
    {
     "output_type": "display_data",
     "data": {
      "text/plain": "<Figure size 720x720 with 1 Axes>",
      "image/svg+xml": "<?xml version=\"1.0\" encoding=\"utf-8\" standalone=\"no\"?>\n<!DOCTYPE svg PUBLIC \"-//W3C//DTD SVG 1.1//EN\"\n  \"http://www.w3.org/Graphics/SVG/1.1/DTD/svg11.dtd\">\n<!-- Created with matplotlib (https://matplotlib.org/) -->\n<svg height=\"558pt\" version=\"1.1\" viewBox=\"0 0 572.4 558\" width=\"572.4pt\" xmlns=\"http://www.w3.org/2000/svg\" xmlns:xlink=\"http://www.w3.org/1999/xlink\">\n <metadata>\n  <rdf:RDF xmlns:cc=\"http://creativecommons.org/ns#\" xmlns:dc=\"http://purl.org/dc/elements/1.1/\" xmlns:rdf=\"http://www.w3.org/1999/02/22-rdf-syntax-ns#\">\n   <cc:Work>\n    <dc:type rdf:resource=\"http://purl.org/dc/dcmitype/StillImage\"/>\n    <dc:date>2021-03-09T13:09:09.038698</dc:date>\n    <dc:format>image/svg+xml</dc:format>\n    <dc:creator>\n     <cc:Agent>\n      <dc:title>Matplotlib v3.3.4, https://matplotlib.org/</dc:title>\n     </cc:Agent>\n    </dc:creator>\n   </cc:Work>\n  </rdf:RDF>\n </metadata>\n <defs>\n  <style type=\"text/css\">*{stroke-linecap:butt;stroke-linejoin:round;}</style>\n </defs>\n <g id=\"figure_1\">\n  <g id=\"patch_1\">\n   <path d=\"M 0 558 \nL 572.4 558 \nL 572.4 0 \nL 0 0 \nz\n\" style=\"fill:none;\"/>\n  </g>\n  <g id=\"axes_1\">\n   <g id=\"patch_2\">\n    <path d=\"M 7.2 550.8 \nL 565.2 550.8 \nL 565.2 7.2 \nL 7.2 7.2 \nz\n\" style=\"fill:#ffffff;\"/>\n   </g>\n   <g id=\"LineCollection_1\">\n    <path clip-path=\"url(#p1f5164702d)\" d=\"M 286.419002 280.628464 \nL 286.419002 280.628464 \n\" style=\"fill:none;stroke:#000000;stroke-opacity:0.5;\"/>\n    <path clip-path=\"url(#p1f5164702d)\" d=\"M 286.419002 280.628464 \nL 199.720279 246.372792 \n\" style=\"fill:none;stroke:#000000;stroke-opacity:0.5;\"/>\n    <path clip-path=\"url(#p1f5164702d)\" d=\"M 286.419002 280.628464 \nL 319.935797 195.184955 \n\" style=\"fill:none;stroke:#000000;stroke-opacity:0.5;\"/>\n    <path clip-path=\"url(#p1f5164702d)\" d=\"M 286.419002 280.628464 \nL 372.551734 313.832181 \n\" style=\"fill:none;stroke:#000000;stroke-opacity:0.5;\"/>\n    <path clip-path=\"url(#p1f5164702d)\" d=\"M 286.419002 280.628464 \nL 250.569605 363.991601 \n\" style=\"fill:none;stroke:#000000;stroke-opacity:0.5;\"/>\n    <path clip-path=\"url(#p1f5164702d)\" d=\"M 199.720279 246.372792 \nL 32.563636 181.49484 \n\" style=\"fill:none;stroke:#000000;stroke-opacity:0.5;\"/>\n    <path clip-path=\"url(#p1f5164702d)\" d=\"M 199.720279 246.372792 \nL 319.935797 195.184955 \n\" style=\"fill:none;stroke:#000000;stroke-opacity:0.5;\"/>\n    <path clip-path=\"url(#p1f5164702d)\" d=\"M 199.720279 246.372792 \nL 372.551734 313.832181 \n\" style=\"fill:none;stroke:#000000;stroke-opacity:0.5;\"/>\n    <path clip-path=\"url(#p1f5164702d)\" d=\"M 199.720279 246.372792 \nL 250.569605 363.991601 \n\" style=\"fill:none;stroke:#000000;stroke-opacity:0.5;\"/>\n    <path clip-path=\"url(#p1f5164702d)\" d=\"M 319.935797 195.184955 \nL 384.809955 31.909091 \n\" style=\"fill:none;stroke:#000000;stroke-opacity:0.5;\"/>\n    <path clip-path=\"url(#p1f5164702d)\" d=\"M 319.935797 195.184955 \nL 372.551734 313.832181 \n\" style=\"fill:none;stroke:#000000;stroke-opacity:0.5;\"/>\n    <path clip-path=\"url(#p1f5164702d)\" d=\"M 319.935797 195.184955 \nL 250.569605 363.991601 \n\" style=\"fill:none;stroke:#000000;stroke-opacity:0.5;\"/>\n    <path clip-path=\"url(#p1f5164702d)\" d=\"M 372.551734 313.832181 \nL 539.836364 379.632739 \n\" style=\"fill:none;stroke:#000000;stroke-opacity:0.5;\"/>\n    <path clip-path=\"url(#p1f5164702d)\" d=\"M 372.551734 313.832181 \nL 250.569605 363.991601 \n\" style=\"fill:none;stroke:#000000;stroke-opacity:0.5;\"/>\n    <path clip-path=\"url(#p1f5164702d)\" d=\"M 250.569605 363.991601 \nL 181.818667 526.090909 \n\" style=\"fill:none;stroke:#000000;stroke-opacity:0.5;\"/>\n   </g>\n   <g id=\"matplotlib.axis_1\">\n    <g id=\"xtick_1\"/>\n    <g id=\"xtick_2\"/>\n    <g id=\"xtick_3\"/>\n    <g id=\"xtick_4\"/>\n    <g id=\"xtick_5\"/>\n    <g id=\"xtick_6\"/>\n    <g id=\"xtick_7\"/>\n    <g id=\"xtick_8\"/>\n    <g id=\"xtick_9\"/>\n   </g>\n   <g id=\"matplotlib.axis_2\">\n    <g id=\"ytick_1\"/>\n    <g id=\"ytick_2\"/>\n    <g id=\"ytick_3\"/>\n    <g id=\"ytick_4\"/>\n    <g id=\"ytick_5\"/>\n    <g id=\"ytick_6\"/>\n    <g id=\"ytick_7\"/>\n    <g id=\"ytick_8\"/>\n    <g id=\"ytick_9\"/>\n   </g>\n   <g id=\"PathCollection_1\">\n    <defs>\n     <path d=\"M 0 12.247449 \nC 3.248061 12.247449 6.363528 10.95698 8.660254 8.660254 \nC 10.95698 6.363528 12.247449 3.248061 12.247449 0 \nC 12.247449 -3.248061 10.95698 -6.363528 8.660254 -8.660254 \nC 6.363528 -10.95698 3.248061 -12.247449 0 -12.247449 \nC -3.248061 -12.247449 -6.363528 -10.95698 -8.660254 -8.660254 \nC -10.95698 -6.363528 -12.247449 -3.248061 -12.247449 0 \nC -12.247449 3.248061 -10.95698 6.363528 -8.660254 8.660254 \nC -6.363528 10.95698 -3.248061 12.247449 0 12.247449 \nz\n\" id=\"mc1daf5bc8b\" style=\"stroke:#ff0000;stroke-opacity:0.8;\"/>\n    </defs>\n    <g clip-path=\"url(#p1f5164702d)\">\n     <use style=\"fill:#ff0000;fill-opacity:0.8;stroke:#ff0000;stroke-opacity:0.8;\" x=\"286.419002\" xlink:href=\"#mc1daf5bc8b\" y=\"280.628464\"/>\n    </g>\n   </g>\n   <g id=\"PathCollection_2\">\n    <g clip-path=\"url(#p1f5164702d)\">\n     <use style=\"fill:#ff0000;fill-opacity:0.8;stroke:#ff0000;stroke-opacity:0.8;\" x=\"286.419002\" xlink:href=\"#mc1daf5bc8b\" y=\"280.628464\"/>\n    </g>\n   </g>\n   <g id=\"PathCollection_3\">\n    <defs>\n     <path d=\"M 0 12.247449 \nC 3.248061 12.247449 6.363528 10.95698 8.660254 8.660254 \nC 10.95698 6.363528 12.247449 3.248061 12.247449 0 \nC 12.247449 -3.248061 10.95698 -6.363528 8.660254 -8.660254 \nC 6.363528 -10.95698 3.248061 -12.247449 0 -12.247449 \nC -3.248061 -12.247449 -6.363528 -10.95698 -8.660254 -8.660254 \nC -10.95698 -6.363528 -12.247449 -3.248061 -12.247449 0 \nC -12.247449 3.248061 -10.95698 6.363528 -8.660254 8.660254 \nC -6.363528 10.95698 -3.248061 12.247449 0 12.247449 \nz\n\" id=\"mda60bd6c14\" style=\"stroke:#0000ff;stroke-opacity:0.8;\"/>\n    </defs>\n    <g clip-path=\"url(#p1f5164702d)\">\n     <use style=\"fill:#0000ff;fill-opacity:0.8;stroke:#0000ff;stroke-opacity:0.8;\" x=\"199.720279\" xlink:href=\"#mda60bd6c14\" y=\"246.372792\"/>\n     <use style=\"fill:#0000ff;fill-opacity:0.8;stroke:#0000ff;stroke-opacity:0.8;\" x=\"32.563636\" xlink:href=\"#mda60bd6c14\" y=\"181.49484\"/>\n     <use style=\"fill:#0000ff;fill-opacity:0.8;stroke:#0000ff;stroke-opacity:0.8;\" x=\"319.935797\" xlink:href=\"#mda60bd6c14\" y=\"195.184955\"/>\n     <use style=\"fill:#0000ff;fill-opacity:0.8;stroke:#0000ff;stroke-opacity:0.8;\" x=\"384.809955\" xlink:href=\"#mda60bd6c14\" y=\"31.909091\"/>\n     <use style=\"fill:#0000ff;fill-opacity:0.8;stroke:#0000ff;stroke-opacity:0.8;\" x=\"372.551734\" xlink:href=\"#mda60bd6c14\" y=\"313.832181\"/>\n     <use style=\"fill:#0000ff;fill-opacity:0.8;stroke:#0000ff;stroke-opacity:0.8;\" x=\"539.836364\" xlink:href=\"#mda60bd6c14\" y=\"379.632739\"/>\n     <use style=\"fill:#0000ff;fill-opacity:0.8;stroke:#0000ff;stroke-opacity:0.8;\" x=\"250.569605\" xlink:href=\"#mda60bd6c14\" y=\"363.991601\"/>\n     <use style=\"fill:#0000ff;fill-opacity:0.8;stroke:#0000ff;stroke-opacity:0.8;\" x=\"181.818667\" xlink:href=\"#mda60bd6c14\" y=\"526.090909\"/>\n    </g>\n   </g>\n   <g id=\"PathCollection_4\">\n    <g clip-path=\"url(#p1f5164702d)\">\n     <use style=\"fill:#0000ff;fill-opacity:0.8;stroke:#0000ff;stroke-opacity:0.8;\" x=\"199.720279\" xlink:href=\"#mda60bd6c14\" y=\"246.372792\"/>\n     <use style=\"fill:#0000ff;fill-opacity:0.8;stroke:#0000ff;stroke-opacity:0.8;\" x=\"32.563636\" xlink:href=\"#mda60bd6c14\" y=\"181.49484\"/>\n     <use style=\"fill:#0000ff;fill-opacity:0.8;stroke:#0000ff;stroke-opacity:0.8;\" x=\"319.935797\" xlink:href=\"#mda60bd6c14\" y=\"195.184955\"/>\n     <use style=\"fill:#0000ff;fill-opacity:0.8;stroke:#0000ff;stroke-opacity:0.8;\" x=\"384.809955\" xlink:href=\"#mda60bd6c14\" y=\"31.909091\"/>\n     <use style=\"fill:#0000ff;fill-opacity:0.8;stroke:#0000ff;stroke-opacity:0.8;\" x=\"372.551734\" xlink:href=\"#mda60bd6c14\" y=\"313.832181\"/>\n     <use style=\"fill:#0000ff;fill-opacity:0.8;stroke:#0000ff;stroke-opacity:0.8;\" x=\"539.836364\" xlink:href=\"#mda60bd6c14\" y=\"379.632739\"/>\n     <use style=\"fill:#0000ff;fill-opacity:0.8;stroke:#0000ff;stroke-opacity:0.8;\" x=\"250.569605\" xlink:href=\"#mda60bd6c14\" y=\"363.991601\"/>\n     <use style=\"fill:#0000ff;fill-opacity:0.8;stroke:#0000ff;stroke-opacity:0.8;\" x=\"181.818667\" xlink:href=\"#mda60bd6c14\" y=\"526.090909\"/>\n    </g>\n   </g>\n   <g id=\"patch_3\">\n    <path d=\"M 7.2 550.8 \nL 7.2 7.2 \n\" style=\"fill:none;stroke:#000000;stroke-linecap:square;stroke-linejoin:miter;stroke-width:0.8;\"/>\n   </g>\n   <g id=\"patch_4\">\n    <path d=\"M 565.2 550.8 \nL 565.2 7.2 \n\" style=\"fill:none;stroke:#000000;stroke-linecap:square;stroke-linejoin:miter;stroke-width:0.8;\"/>\n   </g>\n   <g id=\"patch_5\">\n    <path d=\"M 7.2 550.8 \nL 565.2 550.8 \n\" style=\"fill:none;stroke:#000000;stroke-linecap:square;stroke-linejoin:miter;stroke-width:0.8;\"/>\n   </g>\n   <g id=\"patch_6\">\n    <path d=\"M 7.2 7.2 \nL 565.2 7.2 \n\" style=\"fill:none;stroke:#000000;stroke-linecap:square;stroke-linejoin:miter;stroke-width:0.8;\"/>\n   </g>\n   <g id=\"text_1\">\n    <g clip-path=\"url(#p1f5164702d)\">\n     <!-- root -->\n     <g transform=\"translate(266.375252 272.501084)scale(0.2 -0.2)\">\n      <defs>\n       <path d=\"M 41.109375 46.296875 \nQ 39.59375 47.171875 37.8125 47.578125 \nQ 36.03125 48 33.890625 48 \nQ 26.265625 48 22.1875 43.046875 \nQ 18.109375 38.09375 18.109375 28.8125 \nL 18.109375 0 \nL 9.078125 0 \nL 9.078125 54.6875 \nL 18.109375 54.6875 \nL 18.109375 46.1875 \nQ 20.953125 51.171875 25.484375 53.578125 \nQ 30.03125 56 36.53125 56 \nQ 37.453125 56 38.578125 55.875 \nQ 39.703125 55.765625 41.0625 55.515625 \nz\n\" id=\"DejaVuSans-114\"/>\n       <path d=\"M 30.609375 48.390625 \nQ 23.390625 48.390625 19.1875 42.75 \nQ 14.984375 37.109375 14.984375 27.296875 \nQ 14.984375 17.484375 19.15625 11.84375 \nQ 23.34375 6.203125 30.609375 6.203125 \nQ 37.796875 6.203125 41.984375 11.859375 \nQ 46.1875 17.53125 46.1875 27.296875 \nQ 46.1875 37.015625 41.984375 42.703125 \nQ 37.796875 48.390625 30.609375 48.390625 \nz\nM 30.609375 56 \nQ 42.328125 56 49.015625 48.375 \nQ 55.71875 40.765625 55.71875 27.296875 \nQ 55.71875 13.875 49.015625 6.21875 \nQ 42.328125 -1.421875 30.609375 -1.421875 \nQ 18.84375 -1.421875 12.171875 6.21875 \nQ 5.515625 13.875 5.515625 27.296875 \nQ 5.515625 40.765625 12.171875 48.375 \nQ 18.84375 56 30.609375 56 \nz\n\" id=\"DejaVuSans-111\"/>\n       <path d=\"M 18.3125 70.21875 \nL 18.3125 54.6875 \nL 36.8125 54.6875 \nL 36.8125 47.703125 \nL 18.3125 47.703125 \nL 18.3125 18.015625 \nQ 18.3125 11.328125 20.140625 9.421875 \nQ 21.96875 7.515625 27.59375 7.515625 \nL 36.8125 7.515625 \nL 36.8125 0 \nL 27.59375 0 \nQ 17.1875 0 13.234375 3.875 \nQ 9.28125 7.765625 9.28125 18.015625 \nL 9.28125 47.703125 \nL 2.6875 47.703125 \nL 2.6875 54.6875 \nL 9.28125 54.6875 \nL 9.28125 70.21875 \nz\n\" id=\"DejaVuSans-116\"/>\n      </defs>\n      <use xlink:href=\"#DejaVuSans-114\"/>\n      <use x=\"38.863281\" xlink:href=\"#DejaVuSans-111\"/>\n      <use x=\"100.044922\" xlink:href=\"#DejaVuSans-111\"/>\n      <use x=\"161.226562\" xlink:href=\"#DejaVuSans-116\"/>\n     </g>\n    </g>\n   </g>\n   <g id=\"text_2\">\n    <g clip-path=\"url(#p1f5164702d)\">\n     <!-- hip_1 -->\n     <g transform=\"translate(172.893717 237.967286)scale(0.2 -0.2)\">\n      <defs>\n       <path d=\"M 54.890625 33.015625 \nL 54.890625 0 \nL 45.90625 0 \nL 45.90625 32.71875 \nQ 45.90625 40.484375 42.875 44.328125 \nQ 39.84375 48.1875 33.796875 48.1875 \nQ 26.515625 48.1875 22.3125 43.546875 \nQ 18.109375 38.921875 18.109375 30.90625 \nL 18.109375 0 \nL 9.078125 0 \nL 9.078125 75.984375 \nL 18.109375 75.984375 \nL 18.109375 46.1875 \nQ 21.34375 51.125 25.703125 53.5625 \nQ 30.078125 56 35.796875 56 \nQ 45.21875 56 50.046875 50.171875 \nQ 54.890625 44.34375 54.890625 33.015625 \nz\n\" id=\"DejaVuSans-104\"/>\n       <path d=\"M 9.421875 54.6875 \nL 18.40625 54.6875 \nL 18.40625 0 \nL 9.421875 0 \nz\nM 9.421875 75.984375 \nL 18.40625 75.984375 \nL 18.40625 64.59375 \nL 9.421875 64.59375 \nz\n\" id=\"DejaVuSans-105\"/>\n       <path d=\"M 18.109375 8.203125 \nL 18.109375 -20.796875 \nL 9.078125 -20.796875 \nL 9.078125 54.6875 \nL 18.109375 54.6875 \nL 18.109375 46.390625 \nQ 20.953125 51.265625 25.265625 53.625 \nQ 29.59375 56 35.59375 56 \nQ 45.5625 56 51.78125 48.09375 \nQ 58.015625 40.1875 58.015625 27.296875 \nQ 58.015625 14.40625 51.78125 6.484375 \nQ 45.5625 -1.421875 35.59375 -1.421875 \nQ 29.59375 -1.421875 25.265625 0.953125 \nQ 20.953125 3.328125 18.109375 8.203125 \nz\nM 48.6875 27.296875 \nQ 48.6875 37.203125 44.609375 42.84375 \nQ 40.53125 48.484375 33.40625 48.484375 \nQ 26.265625 48.484375 22.1875 42.84375 \nQ 18.109375 37.203125 18.109375 27.296875 \nQ 18.109375 17.390625 22.1875 11.75 \nQ 26.265625 6.109375 33.40625 6.109375 \nQ 40.53125 6.109375 44.609375 11.75 \nQ 48.6875 17.390625 48.6875 27.296875 \nz\n\" id=\"DejaVuSans-112\"/>\n       <path d=\"M 50.984375 -16.609375 \nL 50.984375 -23.578125 \nL -0.984375 -23.578125 \nL -0.984375 -16.609375 \nz\n\" id=\"DejaVuSans-95\"/>\n       <path d=\"M 12.40625 8.296875 \nL 28.515625 8.296875 \nL 28.515625 63.921875 \nL 10.984375 60.40625 \nL 10.984375 69.390625 \nL 28.421875 72.90625 \nL 38.28125 72.90625 \nL 38.28125 8.296875 \nL 54.390625 8.296875 \nL 54.390625 0 \nL 12.40625 0 \nz\n\" id=\"DejaVuSans-49\"/>\n      </defs>\n      <use xlink:href=\"#DejaVuSans-104\"/>\n      <use x=\"63.378906\" xlink:href=\"#DejaVuSans-105\"/>\n      <use x=\"91.162109\" xlink:href=\"#DejaVuSans-112\"/>\n      <use x=\"154.638672\" xlink:href=\"#DejaVuSans-95\"/>\n      <use x=\"204.638672\" xlink:href=\"#DejaVuSans-49\"/>\n     </g>\n    </g>\n   </g>\n   <g id=\"text_3\">\n    <g clip-path=\"url(#p1f5164702d)\">\n     <!-- ankle_1 -->\n     <g transform=\"translate(-5.986364 173.089334)scale(0.2 -0.2)\">\n      <defs>\n       <path d=\"M 34.28125 27.484375 \nQ 23.390625 27.484375 19.1875 25 \nQ 14.984375 22.515625 14.984375 16.5 \nQ 14.984375 11.71875 18.140625 8.90625 \nQ 21.296875 6.109375 26.703125 6.109375 \nQ 34.1875 6.109375 38.703125 11.40625 \nQ 43.21875 16.703125 43.21875 25.484375 \nL 43.21875 27.484375 \nz\nM 52.203125 31.203125 \nL 52.203125 0 \nL 43.21875 0 \nL 43.21875 8.296875 \nQ 40.140625 3.328125 35.546875 0.953125 \nQ 30.953125 -1.421875 24.3125 -1.421875 \nQ 15.921875 -1.421875 10.953125 3.296875 \nQ 6 8.015625 6 15.921875 \nQ 6 25.140625 12.171875 29.828125 \nQ 18.359375 34.515625 30.609375 34.515625 \nL 43.21875 34.515625 \nL 43.21875 35.40625 \nQ 43.21875 41.609375 39.140625 45 \nQ 35.0625 48.390625 27.6875 48.390625 \nQ 23 48.390625 18.546875 47.265625 \nQ 14.109375 46.140625 10.015625 43.890625 \nL 10.015625 52.203125 \nQ 14.9375 54.109375 19.578125 55.046875 \nQ 24.21875 56 28.609375 56 \nQ 40.484375 56 46.34375 49.84375 \nQ 52.203125 43.703125 52.203125 31.203125 \nz\n\" id=\"DejaVuSans-97\"/>\n       <path d=\"M 54.890625 33.015625 \nL 54.890625 0 \nL 45.90625 0 \nL 45.90625 32.71875 \nQ 45.90625 40.484375 42.875 44.328125 \nQ 39.84375 48.1875 33.796875 48.1875 \nQ 26.515625 48.1875 22.3125 43.546875 \nQ 18.109375 38.921875 18.109375 30.90625 \nL 18.109375 0 \nL 9.078125 0 \nL 9.078125 54.6875 \nL 18.109375 54.6875 \nL 18.109375 46.1875 \nQ 21.34375 51.125 25.703125 53.5625 \nQ 30.078125 56 35.796875 56 \nQ 45.21875 56 50.046875 50.171875 \nQ 54.890625 44.34375 54.890625 33.015625 \nz\n\" id=\"DejaVuSans-110\"/>\n       <path d=\"M 9.078125 75.984375 \nL 18.109375 75.984375 \nL 18.109375 31.109375 \nL 44.921875 54.6875 \nL 56.390625 54.6875 \nL 27.390625 29.109375 \nL 57.625 0 \nL 45.90625 0 \nL 18.109375 26.703125 \nL 18.109375 0 \nL 9.078125 0 \nz\n\" id=\"DejaVuSans-107\"/>\n       <path d=\"M 9.421875 75.984375 \nL 18.40625 75.984375 \nL 18.40625 0 \nL 9.421875 0 \nz\n\" id=\"DejaVuSans-108\"/>\n       <path d=\"M 56.203125 29.59375 \nL 56.203125 25.203125 \nL 14.890625 25.203125 \nQ 15.484375 15.921875 20.484375 11.0625 \nQ 25.484375 6.203125 34.421875 6.203125 \nQ 39.59375 6.203125 44.453125 7.46875 \nQ 49.3125 8.734375 54.109375 11.28125 \nL 54.109375 2.78125 \nQ 49.265625 0.734375 44.1875 -0.34375 \nQ 39.109375 -1.421875 33.890625 -1.421875 \nQ 20.796875 -1.421875 13.15625 6.1875 \nQ 5.515625 13.8125 5.515625 26.8125 \nQ 5.515625 40.234375 12.765625 48.109375 \nQ 20.015625 56 32.328125 56 \nQ 43.359375 56 49.78125 48.890625 \nQ 56.203125 41.796875 56.203125 29.59375 \nz\nM 47.21875 32.234375 \nQ 47.125 39.59375 43.09375 43.984375 \nQ 39.0625 48.390625 32.421875 48.390625 \nQ 24.90625 48.390625 20.390625 44.140625 \nQ 15.875 39.890625 15.1875 32.171875 \nz\n\" id=\"DejaVuSans-101\"/>\n      </defs>\n      <use xlink:href=\"#DejaVuSans-97\"/>\n      <use x=\"61.279297\" xlink:href=\"#DejaVuSans-110\"/>\n      <use x=\"124.658203\" xlink:href=\"#DejaVuSans-107\"/>\n      <use x=\"182.568359\" xlink:href=\"#DejaVuSans-108\"/>\n      <use x=\"210.351562\" xlink:href=\"#DejaVuSans-101\"/>\n      <use x=\"271.875\" xlink:href=\"#DejaVuSans-95\"/>\n      <use x=\"321.875\" xlink:href=\"#DejaVuSans-49\"/>\n     </g>\n    </g>\n   </g>\n   <g id=\"text_4\">\n    <g clip-path=\"url(#p1f5164702d)\">\n     <!-- hip_2 -->\n     <g transform=\"translate(293.109234 186.779449)scale(0.2 -0.2)\">\n      <defs>\n       <path d=\"M 19.1875 8.296875 \nL 53.609375 8.296875 \nL 53.609375 0 \nL 7.328125 0 \nL 7.328125 8.296875 \nQ 12.9375 14.109375 22.625 23.890625 \nQ 32.328125 33.6875 34.8125 36.53125 \nQ 39.546875 41.84375 41.421875 45.53125 \nQ 43.3125 49.21875 43.3125 52.78125 \nQ 43.3125 58.59375 39.234375 62.25 \nQ 35.15625 65.921875 28.609375 65.921875 \nQ 23.96875 65.921875 18.8125 64.3125 \nQ 13.671875 62.703125 7.8125 59.421875 \nL 7.8125 69.390625 \nQ 13.765625 71.78125 18.9375 73 \nQ 24.125 74.21875 28.421875 74.21875 \nQ 39.75 74.21875 46.484375 68.546875 \nQ 53.21875 62.890625 53.21875 53.421875 \nQ 53.21875 48.921875 51.53125 44.890625 \nQ 49.859375 40.875 45.40625 35.40625 \nQ 44.1875 33.984375 37.640625 27.21875 \nQ 31.109375 20.453125 19.1875 8.296875 \nz\n\" id=\"DejaVuSans-50\"/>\n      </defs>\n      <use xlink:href=\"#DejaVuSans-104\"/>\n      <use x=\"63.378906\" xlink:href=\"#DejaVuSans-105\"/>\n      <use x=\"91.162109\" xlink:href=\"#DejaVuSans-112\"/>\n      <use x=\"154.638672\" xlink:href=\"#DejaVuSans-95\"/>\n      <use x=\"204.638672\" xlink:href=\"#DejaVuSans-50\"/>\n     </g>\n    </g>\n   </g>\n   <g id=\"text_5\">\n    <g clip-path=\"url(#p1f5164702d)\">\n     <!-- ankle_2 -->\n     <g transform=\"translate(346.259955 23.503585)scale(0.2 -0.2)\">\n      <use xlink:href=\"#DejaVuSans-97\"/>\n      <use x=\"61.279297\" xlink:href=\"#DejaVuSans-110\"/>\n      <use x=\"124.658203\" xlink:href=\"#DejaVuSans-107\"/>\n      <use x=\"182.568359\" xlink:href=\"#DejaVuSans-108\"/>\n      <use x=\"210.351562\" xlink:href=\"#DejaVuSans-101\"/>\n      <use x=\"271.875\" xlink:href=\"#DejaVuSans-95\"/>\n      <use x=\"321.875\" xlink:href=\"#DejaVuSans-50\"/>\n     </g>\n    </g>\n   </g>\n   <g id=\"text_6\">\n    <g clip-path=\"url(#p1f5164702d)\">\n     <!-- hip_3 -->\n     <g transform=\"translate(345.725171 305.426676)scale(0.2 -0.2)\">\n      <defs>\n       <path d=\"M 40.578125 39.3125 \nQ 47.65625 37.796875 51.625 33 \nQ 55.609375 28.21875 55.609375 21.1875 \nQ 55.609375 10.40625 48.1875 4.484375 \nQ 40.765625 -1.421875 27.09375 -1.421875 \nQ 22.515625 -1.421875 17.65625 -0.515625 \nQ 12.796875 0.390625 7.625 2.203125 \nL 7.625 11.71875 \nQ 11.71875 9.328125 16.59375 8.109375 \nQ 21.484375 6.890625 26.8125 6.890625 \nQ 36.078125 6.890625 40.9375 10.546875 \nQ 45.796875 14.203125 45.796875 21.1875 \nQ 45.796875 27.640625 41.28125 31.265625 \nQ 36.765625 34.90625 28.71875 34.90625 \nL 20.21875 34.90625 \nL 20.21875 43.015625 \nL 29.109375 43.015625 \nQ 36.375 43.015625 40.234375 45.921875 \nQ 44.09375 48.828125 44.09375 54.296875 \nQ 44.09375 59.90625 40.109375 62.90625 \nQ 36.140625 65.921875 28.71875 65.921875 \nQ 24.65625 65.921875 20.015625 65.03125 \nQ 15.375 64.15625 9.8125 62.3125 \nL 9.8125 71.09375 \nQ 15.4375 72.65625 20.34375 73.4375 \nQ 25.25 74.21875 29.59375 74.21875 \nQ 40.828125 74.21875 47.359375 69.109375 \nQ 53.90625 64.015625 53.90625 55.328125 \nQ 53.90625 49.265625 50.4375 45.09375 \nQ 46.96875 40.921875 40.578125 39.3125 \nz\n\" id=\"DejaVuSans-51\"/>\n      </defs>\n      <use xlink:href=\"#DejaVuSans-104\"/>\n      <use x=\"63.378906\" xlink:href=\"#DejaVuSans-105\"/>\n      <use x=\"91.162109\" xlink:href=\"#DejaVuSans-112\"/>\n      <use x=\"154.638672\" xlink:href=\"#DejaVuSans-95\"/>\n      <use x=\"204.638672\" xlink:href=\"#DejaVuSans-51\"/>\n     </g>\n    </g>\n   </g>\n   <g id=\"text_7\">\n    <g clip-path=\"url(#p1f5164702d)\">\n     <!-- ankle_3 -->\n     <g transform=\"translate(501.286364 371.227233)scale(0.2 -0.2)\">\n      <use xlink:href=\"#DejaVuSans-97\"/>\n      <use x=\"61.279297\" xlink:href=\"#DejaVuSans-110\"/>\n      <use x=\"124.658203\" xlink:href=\"#DejaVuSans-107\"/>\n      <use x=\"182.568359\" xlink:href=\"#DejaVuSans-108\"/>\n      <use x=\"210.351562\" xlink:href=\"#DejaVuSans-101\"/>\n      <use x=\"271.875\" xlink:href=\"#DejaVuSans-95\"/>\n      <use x=\"321.875\" xlink:href=\"#DejaVuSans-51\"/>\n     </g>\n    </g>\n   </g>\n   <g id=\"text_8\">\n    <g clip-path=\"url(#p1f5164702d)\">\n     <!-- hip_4 -->\n     <g transform=\"translate(223.743043 355.586096)scale(0.2 -0.2)\">\n      <defs>\n       <path d=\"M 37.796875 64.3125 \nL 12.890625 25.390625 \nL 37.796875 25.390625 \nz\nM 35.203125 72.90625 \nL 47.609375 72.90625 \nL 47.609375 25.390625 \nL 58.015625 25.390625 \nL 58.015625 17.1875 \nL 47.609375 17.1875 \nL 47.609375 0 \nL 37.796875 0 \nL 37.796875 17.1875 \nL 4.890625 17.1875 \nL 4.890625 26.703125 \nz\n\" id=\"DejaVuSans-52\"/>\n      </defs>\n      <use xlink:href=\"#DejaVuSans-104\"/>\n      <use x=\"63.378906\" xlink:href=\"#DejaVuSans-105\"/>\n      <use x=\"91.162109\" xlink:href=\"#DejaVuSans-112\"/>\n      <use x=\"154.638672\" xlink:href=\"#DejaVuSans-95\"/>\n      <use x=\"204.638672\" xlink:href=\"#DejaVuSans-52\"/>\n     </g>\n    </g>\n   </g>\n   <g id=\"text_9\">\n    <g clip-path=\"url(#p1f5164702d)\">\n     <!-- ankle_4 -->\n     <g transform=\"translate(143.268667 517.685403)scale(0.2 -0.2)\">\n      <use xlink:href=\"#DejaVuSans-97\"/>\n      <use x=\"61.279297\" xlink:href=\"#DejaVuSans-110\"/>\n      <use x=\"124.658203\" xlink:href=\"#DejaVuSans-107\"/>\n      <use x=\"182.568359\" xlink:href=\"#DejaVuSans-108\"/>\n      <use x=\"210.351562\" xlink:href=\"#DejaVuSans-101\"/>\n      <use x=\"271.875\" xlink:href=\"#DejaVuSans-95\"/>\n      <use x=\"321.875\" xlink:href=\"#DejaVuSans-52\"/>\n     </g>\n    </g>\n   </g>\n  </g>\n </g>\n <defs>\n  <clipPath id=\"p1f5164702d\">\n   <rect height=\"543.6\" width=\"558\" x=\"7.2\" y=\"7.2\"/>\n  </clipPath>\n </defs>\n</svg>\n",
      "image/png": "[encoded data removed]"
     },
     "metadata": {}
    }
   ],
   "source": [
    "ant_bullet_log_dropped_body = visualize_task_graph(\"AntBulletEnv-v0\",\n",
    "                     figsize=(10, 10),\n",
    "                     use_sibling_relations=True,\n",
    "                     drop_body_nodes=True,\n",
    "                     root_relation_option=RootRelationOption.NONE\n",
    "                     )"
   ],
   "metadata": {
    "collapsed": false,
    "pycharm": {
     "name": "#%%\n"
    }
   }
  },
  {
   "cell_type": "code",
   "execution_count": 13,
   "metadata": {},
   "outputs": [
    {
     "output_type": "error",
     "ename": "UnboundLocalError",
     "evalue": "local variable 'output_type_dict' referenced before assignment",
     "traceback": [
      "\u001b[0;31m---------------------------------------------------------------------------\u001b[0m",
      "\u001b[0;31mUnboundLocalError\u001b[0m                         Traceback (most recent call last)",
      "\u001b[0;32m<ipython-input-13-d26ffb68270f>\u001b[0m in \u001b[0;36m<module>\u001b[0;34m\u001b[0m\n\u001b[0;32m----> 1\u001b[0;31m HalfCheetah_log = visualize_task_graph(\"HalfCheetah-v1\",\n\u001b[0m\u001b[1;32m      2\u001b[0m                                         \u001b[0mfigsize\u001b[0m\u001b[0;34m=\u001b[0m\u001b[0;34m(\u001b[0m\u001b[0;36m15\u001b[0m\u001b[0;34m,\u001b[0m\u001b[0;36m15\u001b[0m\u001b[0;34m)\u001b[0m\u001b[0;34m,\u001b[0m\u001b[0;34m\u001b[0m\u001b[0;34m\u001b[0m\u001b[0m\n\u001b[1;32m      3\u001b[0m                                         \u001b[0muse_sibling_relations\u001b[0m \u001b[0;34m=\u001b[0m \u001b[0;32mFalse\u001b[0m\u001b[0;34m,\u001b[0m\u001b[0;34m\u001b[0m\u001b[0;34m\u001b[0m\u001b[0m\n\u001b[1;32m      4\u001b[0m                                         root_relation_option = RootRelationOption.BODY)\n",
      "\u001b[0;32m<ipython-input-9-7399866c8063>\u001b[0m in \u001b[0;36mvisualize_task_graph\u001b[0;34m(task_name, figsize, use_sibling_relations, drop_body_nodes, root_relation_option)\u001b[0m\n\u001b[1;32m     13\u001b[0m     \u001b[0mfig\u001b[0m \u001b[0;34m=\u001b[0m \u001b[0mplt\u001b[0m\u001b[0;34m.\u001b[0m\u001b[0mfigure\u001b[0m\u001b[0;34m(\u001b[0m\u001b[0mfigsize\u001b[0m\u001b[0;34m=\u001b[0m\u001b[0mfigsize\u001b[0m\u001b[0;34m)\u001b[0m\u001b[0;34m\u001b[0m\u001b[0;34m\u001b[0m\u001b[0m\n\u001b[1;32m     14\u001b[0m \u001b[0;34m\u001b[0m\u001b[0m\n\u001b[0;32m---> 15\u001b[0;31m     task_log = parse_mujoco_graph(task_name=task_name, \n\u001b[0m\u001b[1;32m     16\u001b[0m         \u001b[0muse_sibling_relations\u001b[0m\u001b[0;34m=\u001b[0m\u001b[0muse_sibling_relations\u001b[0m\u001b[0;34m,\u001b[0m\u001b[0;34m\u001b[0m\u001b[0;34m\u001b[0m\u001b[0m\n\u001b[1;32m     17\u001b[0m         \u001b[0mroot_relation_option\u001b[0m\u001b[0;34m=\u001b[0m\u001b[0mroot_relation_option\u001b[0m\u001b[0;34m,\u001b[0m\u001b[0;34m\u001b[0m\u001b[0;34m\u001b[0m\u001b[0m\n",
      "\u001b[0;32m~/git/tum-adlr-ws21-04/NerveNet/graph_util/mujoco_parser.py\u001b[0m in \u001b[0;36mparse_mujoco_graph\u001b[0;34m(task_name, xml_name, xml_assets_path, use_sibling_relations, drop_body_nodes, root_relation_option, controller_option, embedding_option, foot_list, absorb_root_joints)\u001b[0m\n\u001b[1;32m    134\u001b[0m                       for node_type in ALLOWED_NODE_TYPES}\n\u001b[1;32m    135\u001b[0m \u001b[0;34m\u001b[0m\u001b[0m\n\u001b[0;32m--> 136\u001b[0;31m     output_type_dict, output_list = __get_output_mapping(\n\u001b[0m\u001b[1;32m    137\u001b[0m         \u001b[0mtree\u001b[0m\u001b[0;34m,\u001b[0m\u001b[0;34m\u001b[0m\u001b[0;34m\u001b[0m\u001b[0m\n\u001b[1;32m    138\u001b[0m         controller_option=controller_option)\n",
      "\u001b[0;32m~/git/tum-adlr-ws21-04/NerveNet/graph_util/mujoco_parser.py\u001b[0m in \u001b[0;36m__get_output_mapping\u001b[0;34m(tree, controller_option)\u001b[0m\n\u001b[1;32m    460\u001b[0m                             for node in output_nodes}\n\u001b[1;32m    461\u001b[0m     \u001b[0;32melif\u001b[0m \u001b[0mcontroller_option\u001b[0m \u001b[0;34m==\u001b[0m \u001b[0mControllerOption\u001b[0m\u001b[0;34m.\u001b[0m\u001b[0mUNIFIED\u001b[0m\u001b[0;34m:\u001b[0m\u001b[0;34m\u001b[0m\u001b[0;34m\u001b[0m\u001b[0m\n\u001b[0;32m--> 462\u001b[0;31m         \u001b[0moutput_type_dict\u001b[0m\u001b[0;34m[\u001b[0m\u001b[0;34m'unified'\u001b[0m\u001b[0;34m]\u001b[0m \u001b[0;34m=\u001b[0m \u001b[0moutput_list\u001b[0m\u001b[0;34m\u001b[0m\u001b[0;34m\u001b[0m\u001b[0m\n\u001b[0m\u001b[1;32m    463\u001b[0m     \u001b[0;32melse\u001b[0m\u001b[0;34m:\u001b[0m\u001b[0;34m\u001b[0m\u001b[0;34m\u001b[0m\u001b[0m\n\u001b[1;32m    464\u001b[0m         raise NotImplementedError(\n",
      "\u001b[0;31mUnboundLocalError\u001b[0m: local variable 'output_type_dict' referenced before assignment"
     ]
    }
   ],
   "source": [
    "HalfCheetah_log = visualize_task_graph(\"HalfCheetah-v1\",\n",
    "                                        figsize=(15,15),\n",
    "                                        use_sibling_relations = False,\n",
    "                                        root_relation_option = RootRelationOption.BODY)"
   ]
  },
  {
   "cell_type": "code",
   "execution_count": null,
   "metadata": {},
   "outputs": [],
   "source": [
    "Hopper_log = visualize_task_graph(\"HopperBulletEnv-v0\", figsize=(10,10),\n",
    "                                        use_sibling_relations = False,\n",
    "                                        root_relation_option = RootRelationOption.BODY)"
   ]
  },
  {
   "cell_type": "code",
   "execution_count": null,
   "metadata": {},
   "outputs": [],
   "source": [
    "Humanoid_log = visualize_task_graph(\"Humanoid-v1\",\n",
    "                                    use_sibling_relations = True,\n",
    "                                    root_relation_option = RootRelationOption.NONE)"
   ]
  },
  {
   "cell_type": "code",
   "execution_count": null,
   "metadata": {},
   "outputs": [],
   "source": [
    "WalkersKangaroo_log = visualize_task_graph(\"Walker2DBulletEnv-v0\")"
   ]
  },
  {
   "cell_type": "code",
   "execution_count": null,
   "metadata": {},
   "outputs": [],
   "source": [
    "#WalkersOstrich_log = visualize_task_graph(\"WalkersOstrich-v1\")"
   ]
  },
  {
   "cell_type": "code",
   "execution_count": null,
   "metadata": {
    "scrolled": false
   },
   "outputs": [],
   "source": []
  },
  {
   "cell_type": "code",
   "execution_count": 12,
   "metadata": {},
   "outputs": [],
   "source": [
    "ant_bullet_log = ant_bullet_log_dropped_body"
   ]
  },
  {
   "cell_type": "code",
   "execution_count": 13,
   "metadata": {},
   "outputs": [
    {
     "output_type": "execute_result",
     "data": {
      "text/plain": [
       "dict_keys(['tree', 'relation_matrix', 'node_type_dict', 'output_type_dict', 'output_list', 'obs_input_mapping', 'static_input_mapping', 'input_type_dict', 'num_nodes'])"
      ]
     },
     "metadata": {},
     "execution_count": 13
    }
   ],
   "source": [
    "ant_bullet_log.keys()"
   ]
  },
  {
   "cell_type": "code",
   "execution_count": 14,
   "metadata": {},
   "outputs": [
    {
     "output_type": "execute_result",
     "data": {
      "text/plain": [
       "{'unified': [1, 2, 3, 4, 5, 6, 7, 8]}"
      ]
     },
     "metadata": {},
     "execution_count": 14
    }
   ],
   "source": [
    "ant_bullet_log[\"output_type_dict\"]"
   ]
  },
  {
   "cell_type": "code",
   "execution_count": 14,
   "metadata": {},
   "outputs": [],
   "source": [
    "relation_matrix = ant_bullet_log[\"relation_matrix\"]\n",
    "obs_input_mapping = ant_bullet_log[\"obs_input_mapping\"]\n",
    "input_type_dict = ant_bullet_log[\"input_type_dict\"]\n",
    "static_input_mapping = ant_bullet_log[\"static_input_mapping\"]\n",
    "num_nodes = ant_bullet_log[\"num_nodes\"]"
   ]
  },
  {
   "cell_type": "code",
   "execution_count": 15,
   "metadata": {},
   "outputs": [],
   "source": [
    "batch_size = 2\n",
    "observation_sample_size = max(list(obs_input_mapping.values()))[0]+ 1\n",
    "observations = torch.arange(batch_size * observation_sample_size).reshape((batch_size, observation_sample_size)).to(torch.float32,)"
   ]
  },
  {
   "cell_type": "code",
   "execution_count": null,
   "metadata": {},
   "outputs": [],
   "source": [
    "observations"
   ]
  },
  {
   "cell_type": "code",
   "execution_count": null,
   "metadata": {},
   "outputs": [],
   "source": [
    "from NerveNet.graph_util.observation_mapper import observations_to_node_attributes\n",
    "observations_to_node_attributes(observations,\n",
    "                                obs_input_mapping,\n",
    "                                static_input_mapping,\n",
    "                                num_nodes,\n",
    "                                num_node_features).shape"
   ]
  },
  {
   "cell_type": "code",
   "execution_count": null,
   "metadata": {},
   "outputs": [],
   "source": [
    "batch_size, observation_sample_size = observations.shape\n",
    "# check that there is a mapping for every element of the observation vector\n",
    "assert max(list(obs_input_mapping.values()))[\n",
    "    0] + 1 == observation_sample_size\n",
    "\n",
    "static_input_mapping = {int(k): np.concatenate(list(v.values()))\n",
    "                        for k, v in static_input_mapping.items()}\n",
    "static_input_mapping[0] = np.array([])"
   ]
  },
  {
   "cell_type": "code",
   "execution_count": null,
   "metadata": {},
   "outputs": [],
   "source": [
    "static_input_mapping"
   ]
  },
  {
   "cell_type": "code",
   "execution_count": null,
   "metadata": {},
   "outputs": [],
   "source": [
    "obs_input_mapping"
   ]
  },
  {
   "cell_type": "code",
   "execution_count": null,
   "metadata": {},
   "outputs": [],
   "source": []
  },
  {
   "cell_type": "code",
   "execution_count": null,
   "metadata": {},
   "outputs": [],
   "source": [
    "input_mask_dict = {}\n",
    "for group_name, group_nodes in input_type_dict.items():\n",
    "    # assumes every node of a group has the same input sizes\n",
    "    in_size = len(obs_input_mapping[group_nodes[0]])\n",
    "    static_in_size = len(static_input_mapping[group_nodes[0]])\n",
    "    input_mask_dict[group_name] = (group_nodes, in_size + static_in_size)\n",
    "input_mask_dict"
   ]
  },
  {
   "cell_type": "code",
   "execution_count": null,
   "metadata": {},
   "outputs": [],
   "source": [
    "# ant_bullet_log[\"relation_matrix\"]"
   ]
  },
  {
   "cell_type": "code",
   "execution_count": null,
   "metadata": {},
   "outputs": [],
   "source": [
    "attributes = -torch.ones(batch_size,\n",
    "                                 num_nodes,\n",
    "                                 num_node_features,\n",
    "                                 dtype=torch.float32,\n",
    "                                 device=observations.device)\n",
    "\n",
    "for i in range(num_nodes):\n",
    "    in_size = len(obs_input_mapping[i])\n",
    "    static_in_size = len(static_input_mapping[i])\n",
    "\n",
    "    in_mask = list(range(in_size))\n",
    "    static_in_mask = list(range(in_size, in_size+static_in_size))\n",
    "\n",
    "    attributes[:, i, in_mask] = observations[:, obs_input_mapping[i]]\n",
    "    attributes[:, i, static_in_mask] = torch.from_numpy(\n",
    "        static_input_mapping[i]).expand(batch_size, -1).float().to(observations.device)"
   ]
  },
  {
   "cell_type": "code",
   "execution_count": null,
   "metadata": {},
   "outputs": [],
   "source": [
    "attributes[:, input_type_dict[\"root_mujocoroot\"]].shape"
   ]
  },
  {
   "cell_type": "code",
   "execution_count": null,
   "metadata": {},
   "outputs": [],
   "source": [
    "attributes[:, input_mask_dict[\"foot\"][0], 0:input_mask_dict[\"foot\"][1]]"
   ]
  },
  {
   "cell_type": "code",
   "execution_count": null,
   "metadata": {},
   "outputs": [],
   "source": [
    "0"
   ]
  },
  {
   "cell_type": "code",
   "execution_count": null,
   "metadata": {},
   "outputs": [],
   "source": [
    "1 "
   ]
  },
  {
   "cell_type": "code",
   "execution_count": null,
   "metadata": {},
   "outputs": [],
   "source": [
    "ant_bullet_log[\"input_type_dict\"]"
   ]
  },
  {
   "cell_type": "code",
   "execution_count": null,
   "metadata": {
    "scrolled": false
   },
   "outputs": [],
   "source": [
    "[node for node in ant_bullet_log[\"tree\"] if node[\"id\"] in ant_bullet_log[\"output_list\"]]"
   ]
  },
  {
   "cell_type": "code",
   "execution_count": null,
   "metadata": {},
   "outputs": [],
   "source": [
    "dict(enumerate([node for node in ant_bullet_log[\"tree\"] if node[\"type\"] == \"joint\"]))"
   ]
  },
  {
   "cell_type": "code",
   "execution_count": null,
   "metadata": {},
   "outputs": [],
   "source": []
  },
  {
   "cell_type": "code",
   "execution_count": null,
   "metadata": {},
   "outputs": [],
   "source": []
  },
  {
   "cell_type": "code",
   "execution_count": null,
   "metadata": {},
   "outputs": [],
   "source": []
  }
 ],
 "metadata": {
  "kernelspec": {
   "name": "python3",
   "display_name": "Python 3.8.5 64-bit ('base': conda)",
   "metadata": {
    "interpreter": {
     "hash": "b8e2fc41452a0cdc72af1a8bc105ce7228d6d81947e18a76479c54162547515f"
    }
   }
  },
  "language_info": {
   "codemirror_mode": {
    "name": "ipython",
    "version": 3
   },
   "file_extension": ".py",
   "mimetype": "text/x-python",
   "name": "python",
   "nbconvert_exporter": "python",
   "pygments_lexer": "ipython3",
   "version": "3.8.5-final"
  }
 },
 "nbformat": 4,
 "nbformat_minor": 4
}