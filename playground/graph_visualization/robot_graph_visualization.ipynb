{
 "cells": [
  {
   "cell_type": "markdown",
   "metadata": {},
   "source": [
    "# Prerequisites\n",
    "Before you can execute this notebook you'll need the graph logs which you can generate by running the `nervenet_graph_generation.py` in the `NerveNet` subfolder"
   ]
  },
  {
   "cell_type": "code",
   "execution_count": 7,
   "metadata": {},
   "outputs": [],
   "source": [
    "import pandas as pd\n",
    "import json\n",
    "import os\n",
    "from pathlib import Path\n",
    "import matplotlib.pyplot as plt\n",
    "import numpy as np\n",
    "import networkx as nx"
   ]
  },
  {
   "cell_type": "code",
   "execution_count": 8,
   "metadata": {},
   "outputs": [],
   "source": [
    "\n",
    "basepath = Path(os.getcwd())\n",
    "# make sure your working directory is the repository root.\n",
    "if basepath.name != \"tum-adlr-ws21-04\":\n",
    "    os.chdir(basepath.parent.parent)\n",
    "    \n",
    "basepath = Path(os.getcwd())"
   ]
  },
  {
   "cell_type": "code",
   "execution_count": 9,
   "metadata": {},
   "outputs": [
    {
     "data": {
      "text/plain": "(True,\n WindowsPath('C:/Users/HannesStark/projects/tum-adlr-ws21-04/graph_logs'))"
     },
     "execution_count": 9,
     "metadata": {},
     "output_type": "execute_result"
    }
   ],
   "source": [
    "graph_logs_dir = basepath / \"graph_logs\"\n",
    "graph_logs_dir.exists(), graph_logs_dir"
   ]
  },
  {
   "cell_type": "code",
   "execution_count": 10,
   "metadata": {},
   "outputs": [
    {
     "data": {
      "text/plain": "['AntS-v1.json',\n 'CentipedeEight-v1.json',\n 'CentipedeFifty-v1.json',\n 'CentipedeFive-v1.json',\n 'CentipedeForty-v1.json',\n 'CentipedeFour-v1.json',\n 'CentipedeFourteen-v1.json',\n 'CentipedeSeven-v1.json',\n 'CentipedeSix-v1.json',\n 'CentipedeTen-v1.json',\n 'CentipedeThirty-v1.json',\n 'CentipedeThree-v1.json',\n 'CentipedeTwelve-v1.json',\n 'CentipedeTwenty-v1.json',\n 'CpCentipedeEight-v1.json',\n 'CpCentipedeFour-v1.json',\n 'CpCentipedeFourteen-v1.json',\n 'CpCentipedeSix-v1.json',\n 'CpCentipedeTen-v1.json',\n 'CpCentipedeTwelve-v1.json',\n 'HalfCheetah-v1.json',\n 'Hopper-v1.json',\n 'Humanoid-v1.json',\n 'HumanoidStandup-v1.json',\n 'ReacherFive-v1.json',\n 'ReacherFour-v1.json',\n 'ReacherOne-v1.json',\n 'ReacherSeven-v1.json',\n 'ReacherSix-v1.json',\n 'ReacherThree-v1.json',\n 'ReacherTwo-v1.json',\n 'ReacherZero-v1.json',\n 'SnakeEight-v1.json',\n 'SnakeFive-v1.json',\n 'SnakeForty-v1.json',\n 'SnakeFour-v1.json',\n 'SnakeNine-v1.json',\n 'SnakeSeven-v1.json',\n 'SnakeSix-v1.json',\n 'SnakeTen-v1.json',\n 'SnakeThree-v1.json',\n 'SnakeTwenty-v1.json',\n 'Swimmer-v1.json',\n 'Walker2d-v1.json',\n 'WalkersFullcheetah-v1.json',\n 'WalkersFullcheetahfive-v1.json',\n 'WalkersFullcheetahfour-v1.json',\n 'WalkersFullcheetahone-v1.json',\n 'WalkersFullcheetahthree-v1.json',\n 'WalkersFullcheetahtwo-v1.json',\n 'WalkersFullcheetahzero-v1.json',\n 'WalkersHalfcheetah-v1.json',\n 'WalkersHalfcheetahfive-v1.json',\n 'WalkersHalfcheetahfour-v1.json',\n 'WalkersHalfcheetahone-v1.json',\n 'WalkersHalfcheetahthree-v1.json',\n 'WalkersHalfcheetahtwo-v1.json',\n 'WalkersHalfcheetahzero-v1.json',\n 'WalkersHalfhumanoid-v1.json',\n 'WalkersHalfhumanoidfive-v1.json',\n 'WalkersHalfhumanoidfour-v1.json',\n 'WalkersHalfhumanoidone-v1.json',\n 'WalkersHalfhumanoidthree-v1.json',\n 'WalkersHalfhumanoidtwo-v1.json',\n 'WalkersHalfhumanoidzero-v1.json',\n 'WalkersHopper-v1.json',\n 'WalkersHopperfive-v1.json',\n 'WalkersHopperfour-v1.json',\n 'WalkersHopperone-v1.json',\n 'WalkersHopperthree-v1.json',\n 'WalkersHoppertwo-v1.json',\n 'WalkersHopperzero-v1.json',\n 'WalkersKangaroo-v1.json',\n 'WalkersOstrich-v1.json',\n 'WalkersOstrichfive-v1.json',\n 'WalkersOstrichfour-v1.json',\n 'WalkersOstrichone-v1.json',\n 'WalkersOstrichthree-v1.json',\n 'WalkersOstrichtwo-v1.json',\n 'WalkersOstrichzero-v1.json']"
     },
     "execution_count": 10,
     "metadata": {},
     "output_type": "execute_result"
    }
   ],
   "source": [
    "log_files = [x.name for x in graph_logs_dir.glob('*.json') if x.is_file()]\n",
    "log_files"
   ]
  },
  {
   "cell_type": "code",
   "execution_count": 10,
   "metadata": {},
   "outputs": [],
   "source": []
  },
  {
   "cell_type": "code",
   "execution_count": 11,
   "metadata": {},
   "outputs": [],
   "source": [
    "#some settings\n",
    "edge_colors = {\n",
    "    10:\"blue\", # root-body\n",
    "    3:\"green\", # body-body\n",
    "    6:\"blue\", # joint-body\n",
    "}\n",
    "\n",
    "def visualize_task_graph(task_name:str, figsize=(10, 10)):\n",
    "    with open(str(graph_logs_dir / f\"{task_name}.json\")) as json_file:\n",
    "        task_log = json.load(json_file)\n",
    "        \n",
    "    \n",
    "    node_colors = {\n",
    "        \"red\": task_log[\"node_type_dict\"][\"root\"],\n",
    "        \"blue\": task_log[\"node_type_dict\"][\"joint\"],\n",
    "        \"black\": task_log[\"node_type_dict\"][\"body\"],\n",
    "    }\n",
    "\n",
    "    node_names = {node[\"id\"]: node[\"raw_name\"] for node in task_log[\"tree\"] if \"raw_name\" in node.keys()}\n",
    "    node_names[0] = \"root\"\n",
    "    \n",
    "    # Generate graph structure\n",
    "    G = nx.Graph()\n",
    "\n",
    "    for i in range(task_log[\"num_nodes\"]):\n",
    "        G.add_node(i)\n",
    "        for j in range(i, task_log[\"num_nodes\"]):\n",
    "            if task_log[\"relation_matrix\"][i][j] != 0:\n",
    "                G.add_edge(i, j)\n",
    "                \n",
    "    # plot the graph\n",
    "    plt.figure(figsize=figsize)\n",
    "    pos = nx.spring_layout(G)#, pos={0: np.array([ 0, 0])})\n",
    "\n",
    "    options = {\"node_size\": 100, \"alpha\": 0.8}\n",
    "    for color, nodes in node_colors.items():\n",
    "        nx.draw_networkx_nodes(G, pos, nodelist=nodes, node_color=color, **options)\n",
    "        nx.draw_networkx_nodes(G, pos, nodelist=nodes, node_color=color, **options)\n",
    "\n",
    "\n",
    "    nx.draw_networkx_edges(G, pos, width=1.0, alpha=0.5)\n",
    "\n",
    "    for p in pos:  # raise text positions\n",
    "        pos[p][1] += 0.055\n",
    "    nx.draw_networkx_labels(G, pos, node_names, font_size=12)\n",
    "\n",
    "    plt.axis(\"off\")\n",
    "    plt.show()\n",
    "    \n",
    "    return task_log"
   ]
  },
  {
   "cell_type": "code",
   "execution_count": 12,
   "metadata": {},
   "outputs": [
    {
     "data": {
      "text/plain": "<Figure size 720x720 with 1 Axes>",
      "image/png": "[encoded data removed]"
     },
     "metadata": {},
     "output_type": "display_data"
    }
   ],
   "source": [
    "ant_log = visualize_task_graph(\"AntS-v1\")"
   ]
  },
  {
   "cell_type": "code",
   "execution_count": 13,
   "metadata": {},
   "outputs": [
    {
     "ename": "FileNotFoundError",
     "evalue": "[Errno 2] No such file or directory: 'C:\\\\Users\\\\HannesStark\\\\projects\\\\tum-adlr-ws21-04\\\\graph_logs\\\\AntBulletEnv-v0.json'",
     "output_type": "error",
     "traceback": [
      "\u001B[1;31m---------------------------------------------------------------------------\u001B[0m",
      "\u001B[1;31mFileNotFoundError\u001B[0m                         Traceback (most recent call last)",
      "\u001B[1;32m<ipython-input-13-806804f3c5ba>\u001B[0m in \u001B[0;36m<module>\u001B[1;34m\u001B[0m\n\u001B[1;32m----> 1\u001B[1;33m \u001B[0mant_bullet_log\u001B[0m \u001B[1;33m=\u001B[0m \u001B[0mvisualize_task_graph\u001B[0m\u001B[1;33m(\u001B[0m\u001B[1;34m\"AntBulletEnv-v0\"\u001B[0m\u001B[1;33m)\u001B[0m\u001B[1;33m\u001B[0m\u001B[1;33m\u001B[0m\u001B[0m\n\u001B[0m\u001B[0;32m      2\u001B[0m \u001B[1;33m\u001B[0m\u001B[0m\n",
      "\u001B[1;32m<ipython-input-11-816615378030>\u001B[0m in \u001B[0;36mvisualize_task_graph\u001B[1;34m(task_name, figsize)\u001B[0m\n\u001B[0;32m      7\u001B[0m \u001B[1;33m\u001B[0m\u001B[0m\n\u001B[0;32m      8\u001B[0m \u001B[1;32mdef\u001B[0m \u001B[0mvisualize_task_graph\u001B[0m\u001B[1;33m(\u001B[0m\u001B[0mtask_name\u001B[0m\u001B[1;33m:\u001B[0m\u001B[0mstr\u001B[0m\u001B[1;33m,\u001B[0m \u001B[0mfigsize\u001B[0m\u001B[1;33m=\u001B[0m\u001B[1;33m(\u001B[0m\u001B[1;36m10\u001B[0m\u001B[1;33m,\u001B[0m \u001B[1;36m10\u001B[0m\u001B[1;33m)\u001B[0m\u001B[1;33m)\u001B[0m\u001B[1;33m:\u001B[0m\u001B[1;33m\u001B[0m\u001B[1;33m\u001B[0m\u001B[0m\n\u001B[1;32m----> 9\u001B[1;33m     \u001B[1;32mwith\u001B[0m \u001B[0mopen\u001B[0m\u001B[1;33m(\u001B[0m\u001B[0mstr\u001B[0m\u001B[1;33m(\u001B[0m\u001B[0mgraph_logs_dir\u001B[0m \u001B[1;33m/\u001B[0m \u001B[1;34mf\"{task_name}.json\"\u001B[0m\u001B[1;33m)\u001B[0m\u001B[1;33m)\u001B[0m \u001B[1;32mas\u001B[0m \u001B[0mjson_file\u001B[0m\u001B[1;33m:\u001B[0m\u001B[1;33m\u001B[0m\u001B[1;33m\u001B[0m\u001B[0m\n\u001B[0m\u001B[0;32m     10\u001B[0m         \u001B[0mtask_log\u001B[0m \u001B[1;33m=\u001B[0m \u001B[0mjson\u001B[0m\u001B[1;33m.\u001B[0m\u001B[0mload\u001B[0m\u001B[1;33m(\u001B[0m\u001B[0mjson_file\u001B[0m\u001B[1;33m)\u001B[0m\u001B[1;33m\u001B[0m\u001B[1;33m\u001B[0m\u001B[0m\n\u001B[0;32m     11\u001B[0m \u001B[1;33m\u001B[0m\u001B[0m\n",
      "\u001B[1;31mFileNotFoundError\u001B[0m: [Errno 2] No such file or directory: 'C:\\\\Users\\\\HannesStark\\\\projects\\\\tum-adlr-ws21-04\\\\graph_logs\\\\AntBulletEnv-v0.json'"
     ]
    }
   ],
   "source": [
    "ant_bullet_log = visualize_task_graph(\"AntBulletEnv-v0\")"
   ]
  },
  {
   "cell_type": "code",
   "execution_count": 14,
   "metadata": {},
   "outputs": [
    {
     "data": {
      "text/plain": "<Figure size 720x720 with 1 Axes>",
      "image/png": "[encoded data removed]"
     },
     "metadata": {},
     "output_type": "display_data"
    }
   ],
   "source": [
    "HalfCheetah_log = visualize_task_graph(\"HalfCheetah-v1\")"
   ]
  },
  {
   "cell_type": "code",
   "execution_count": null,
   "metadata": {},
   "outputs": [],
   "source": [
    "CentipedeFour_log = visualize_task_graph(\"CentipedeFour-v1\", figsize=(14,14))"
   ]
  },
  {
   "cell_type": "code",
   "execution_count": null,
   "metadata": {},
   "outputs": [],
   "source": [
    "Humanoid_log = visualize_task_graph(\"Humanoid-v1\", figsize=(14,14))"
   ]
  },
  {
   "cell_type": "code",
   "execution_count": null,
   "metadata": {},
   "outputs": [],
   "source": [
    "WalkersKangaroo_log = visualize_task_graph(\"WalkersKangaroo-v1\")"
   ]
  },
  {
   "cell_type": "code",
   "execution_count": null,
   "metadata": {},
   "outputs": [],
   "source": [
    "WalkersOstrich_log = visualize_task_graph(\"WalkersOstrich-v1\")"
   ]
  },
  {
   "cell_type": "code",
   "execution_count": null,
   "metadata": {
    "scrolled": false
   },
   "outputs": [],
   "source": [
    "CentipedeFour_log12"
   ]
  },
  {
   "cell_type": "code",
   "execution_count": null,
   "metadata": {},
   "outputs": [],
   "source": [
    "ant_log[\"node_type_dict\"]"
   ]
  },
  {
   "cell_type": "code",
   "execution_count": null,
   "metadata": {},
   "outputs": [],
   "source": [
    "ant_log[\"input_dict\"]"
   ]
  },
  {
   "cell_type": "code",
   "execution_count": null,
   "metadata": {},
   "outputs": [],
   "source": [
    "ant_log[\"num_nodes\"]"
   ]
  },
  {
   "cell_type": "code",
   "execution_count": null,
   "metadata": {},
   "outputs": [],
   "source": [
    "ant_log[\"relation_matrix\"]"
   ]
  },
  {
   "cell_type": "code",
   "execution_count": 17,
   "metadata": {},
   "outputs": [
    {
     "data": {
      "text/plain": "dict_keys(['tree', 'relation_matrix', 'node_type_dict', 'output_type_dict', 'output_list', 'input_dict', 'debug_info', 'node_parameters', 'para_size_dict', 'num_nodes'])"
     },
     "execution_count": 17,
     "metadata": {},
     "output_type": "execute_result"
    }
   ],
   "source": [
    "ant_log.keys()"
   ]
  },
  {
   "cell_type": "code",
   "execution_count": 16,
   "metadata": {},
   "outputs": [
    {
     "data": {
      "text/plain": "{'ankle': [18, 6, 10, 14], 'hip': [16, 4, 8, 12]}"
     },
     "execution_count": 16,
     "metadata": {},
     "output_type": "execute_result"
    }
   ],
   "source": [
    "ant_log[\"output_type_dict\"]"
   ]
  },
  {
   "cell_type": "code",
   "execution_count": 15,
   "metadata": {},
   "outputs": [
    {
     "data": {
      "text/plain": "[16, 18, 4, 6, 8, 10, 12, 14]"
     },
     "execution_count": 15,
     "metadata": {},
     "output_type": "execute_result"
    }
   ],
   "source": [
    "ant_log[\"output_list\"]"
   ]
  },
  {
   "cell_type": "code",
   "execution_count": null,
   "metadata": {},
   "outputs": [],
   "source": [
    "ant_log[\"para_size_dict\"]"
   ]
  },
  {
   "cell_type": "code",
   "execution_count": null,
   "metadata": {},
   "outputs": [],
   "source": [
    "ant_log[\"debug_info\"]"
   ]
  },
  {
   "cell_type": "code",
   "execution_count": null,
   "metadata": {
    "scrolled": false
   },
   "outputs": [],
   "source": [
    "[node for node in ant_log[\"tree\"] if node[\"id\"] in ant_log[\"output_list\"]]"
   ]
  },
  {
   "cell_type": "code",
   "execution_count": null,
   "metadata": {},
   "outputs": [],
   "source": []
  },
  {
   "cell_type": "code",
   "execution_count": null,
   "metadata": {},
   "outputs": [],
   "source": []
  },
  {
   "cell_type": "code",
   "execution_count": null,
   "metadata": {},
   "outputs": [],
   "source": []
  }
 ],
 "metadata": {
  "kernelspec": {
   "name": "python3",
   "language": "python",
   "display_name": "Python 3"
  },
  "language_info": {
   "codemirror_mode": {
    "name": "ipython",
    "version": 3
   },
   "file_extension": ".py",
   "mimetype": "text/x-python",
   "name": "python",
   "nbconvert_exporter": "python",
   "pygments_lexer": "ipython3",
   "version": "3.6.10"
  }
 },
 "nbformat": 4,
 "nbformat_minor": 4
}