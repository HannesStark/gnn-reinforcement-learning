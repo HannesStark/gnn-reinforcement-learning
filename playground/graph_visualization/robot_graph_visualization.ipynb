{
 "cells": [
  {
   "cell_type": "code",
   "execution_count": 1,
   "metadata": {},
   "outputs": [],
   "source": [
    "import pandas as pd\n",
    "import json\n",
    "import os\n",
    "from pathlib import Path\n",
    "import matplotlib.pyplot as plt\n",
    "import numpy as np\n",
    "import networkx as nx"
   ]
  },
  {
   "cell_type": "code",
   "execution_count": 2,
   "metadata": {},
   "outputs": [],
   "source": [
    "\n",
    "basepath = Path(os.getcwd())\n",
    "# make sure your working directory is the repository root.\n",
    "if basepath.name != \"tum-adlr-ws21-04\":\n",
    "    os.chdir(basepath.parent.parent)\n",
    "    \n",
    "basepath = Path(os.getcwd())"
   ]
  },
  {
   "cell_type": "code",
   "execution_count": null,
   "metadata": {},
   "outputs": [],
   "source": []
  },
  {
   "cell_type": "code",
   "execution_count": null,
   "metadata": {},
   "outputs": [],
   "source": []
  },
  {
   "cell_type": "code",
   "execution_count": 3,
   "metadata": {},
   "outputs": [
    {
     "data": {
      "text/plain": [
       "(True, WindowsPath('C:/Users/tsbau/git/tum-adlr-ws21-04/graph_logs'))"
      ]
     },
     "execution_count": 3,
     "metadata": {},
     "output_type": "execute_result"
    }
   ],
   "source": [
    "task_name = \"AntS-v1\"\n",
    "graph_logs_dir = basepath / \"graph_logs\"\n",
    "graph_logs_dir.exists(), graph_logs_dir"
   ]
  },
  {
   "cell_type": "code",
   "execution_count": 4,
   "metadata": {},
   "outputs": [
    {
     "data": {
      "text/plain": [
       "dict_keys(['tree', 'relation_matrix', 'node_type_dict', 'output_type_dict', 'input_dict', 'output_list', 'debug_info', 'node_parameters', 'para_size_dict', 'num_nodes'])"
      ]
     },
     "execution_count": 4,
     "metadata": {},
     "output_type": "execute_result"
    }
   ],
   "source": [
    "with open(str(graph_logs_dir / f\"{task_name}.json\")) as json_file:\n",
    "    task_log = json.load(json_file)\n",
    "    \n",
    "task_log.keys()"
   ]
  },
  {
   "cell_type": "code",
   "execution_count": 5,
   "metadata": {},
   "outputs": [
    {
     "data": {
      "text/plain": [
       "{'root': [0],\n",
       " 'joint': [1, 2, 3, 4, 5, 6, 7, 8],\n",
       " 'body': [9, 10, 11, 12, 13, 14, 15, 16, 17, 18, 19, 20, 21]}"
      ]
     },
     "execution_count": 5,
     "metadata": {},
     "output_type": "execute_result"
    }
   ],
   "source": [
    "task_log[\"node_type_dict\"]"
   ]
  },
  {
   "cell_type": "code",
   "execution_count": 6,
   "metadata": {},
   "outputs": [
    {
     "data": {
      "text/plain": [
       "{'hip': [7, 1, 3, 5], 'ankle': [8, 2, 4, 6]}"
      ]
     },
     "execution_count": 6,
     "metadata": {},
     "output_type": "execute_result"
    }
   ],
   "source": [
    "task_log[\"output_type_dict\"]"
   ]
  },
  {
   "cell_type": "code",
   "execution_count": 7,
   "metadata": {},
   "outputs": [
    {
     "data": {
      "text/plain": [
       "{'0': [20, 21, 22, 23, 24, 25],\n",
       " '1': [-2, 6],\n",
       " '2': [-1, 7],\n",
       " '3': [0, 8],\n",
       " '4': [1, 9],\n",
       " '5': [2, 10],\n",
       " '6': [3, 11],\n",
       " '7': [4, 12],\n",
       " '8': [5, 13],\n",
       " '9': [20, 21, 22, 23, 24, 25],\n",
       " '10': [26, 27, 28, 29, 30, 31],\n",
       " '11': [32, 33, 34, 35, 36, 37],\n",
       " '12': [38, 39, 40, 41, 42, 43],\n",
       " '13': [44, 45, 46, 47, 48, 49],\n",
       " '14': [50, 51, 52, 53, 54, 55],\n",
       " '15': [56, 57, 58, 59, 60, 61],\n",
       " '16': [62, 63, 64, 65, 66, 67],\n",
       " '17': [68, 69, 70, 71, 72, 73],\n",
       " '18': [74, 75, 76, 77, 78, 79],\n",
       " '19': [80, 81, 82, 83, 84, 85],\n",
       " '20': [86, 87, 88, 89, 90, 91],\n",
       " '21': [92, 93, 94, 95, 96, 97]}"
      ]
     },
     "execution_count": 7,
     "metadata": {},
     "output_type": "execute_result"
    }
   ],
   "source": [
    "task_log[\"input_dict\"]"
   ]
  },
  {
   "cell_type": "code",
   "execution_count": 8,
   "metadata": {},
   "outputs": [
    {
     "data": {
      "text/plain": [
       "22"
      ]
     },
     "execution_count": 8,
     "metadata": {},
     "output_type": "execute_result"
    }
   ],
   "source": [
    "task_log[\"num_nodes\"]"
   ]
  },
  {
   "cell_type": "code",
   "execution_count": 9,
   "metadata": {},
   "outputs": [
    {
     "data": {
      "text/plain": [
       "[[0, 0, 0, 0, 0, 0, 0, 0, 0, 0, 10, 0, 0, 10, 0, 0, 10, 0, 0, 10, 0, 0],\n",
       " [0, 0, 0, 0, 0, 0, 0, 0, 0, 0, 0, 6, 0, 0, 0, 0, 0, 0, 0, 0, 0, 0],\n",
       " [0, 0, 0, 0, 0, 0, 0, 0, 0, 0, 0, 0, 6, 0, 0, 0, 0, 0, 0, 0, 0, 0],\n",
       " [0, 0, 0, 0, 0, 0, 0, 0, 0, 0, 0, 0, 0, 0, 6, 0, 0, 0, 0, 0, 0, 0],\n",
       " [0, 0, 0, 0, 0, 0, 0, 0, 0, 0, 0, 0, 0, 0, 0, 6, 0, 0, 0, 0, 0, 0],\n",
       " [0, 0, 0, 0, 0, 0, 0, 0, 0, 0, 0, 0, 0, 0, 0, 0, 0, 6, 0, 0, 0, 0],\n",
       " [0, 0, 0, 0, 0, 0, 0, 0, 0, 0, 0, 0, 0, 0, 0, 0, 0, 0, 6, 0, 0, 0],\n",
       " [0, 0, 0, 0, 0, 0, 0, 0, 0, 0, 0, 0, 0, 0, 0, 0, 0, 0, 0, 0, 6, 0],\n",
       " [0, 0, 0, 0, 0, 0, 0, 0, 0, 0, 0, 0, 0, 0, 0, 0, 0, 0, 0, 0, 0, 6],\n",
       " [0, 0, 0, 0, 0, 0, 0, 0, 0, 0, 3, 0, 0, 3, 0, 0, 3, 0, 0, 3, 0, 0],\n",
       " [-10, 0, 0, 0, 0, 0, 0, 0, 0, 3, 0, 3, 0, 0, 0, 0, 0, 0, 0, 0, 0, 0],\n",
       " [0, -6, 0, 0, 0, 0, 0, 0, 0, 0, 3, 0, 3, 0, 0, 0, 0, 0, 0, 0, 0, 0],\n",
       " [0, 0, -6, 0, 0, 0, 0, 0, 0, 0, 0, 3, 0, 0, 0, 0, 0, 0, 0, 0, 0, 0],\n",
       " [-10, 0, 0, 0, 0, 0, 0, 0, 0, 3, 0, 0, 0, 0, 3, 0, 0, 0, 0, 0, 0, 0],\n",
       " [0, 0, 0, -6, 0, 0, 0, 0, 0, 0, 0, 0, 0, 3, 0, 3, 0, 0, 0, 0, 0, 0],\n",
       " [0, 0, 0, 0, -6, 0, 0, 0, 0, 0, 0, 0, 0, 0, 3, 0, 0, 0, 0, 0, 0, 0],\n",
       " [-10, 0, 0, 0, 0, 0, 0, 0, 0, 3, 0, 0, 0, 0, 0, 0, 0, 3, 0, 0, 0, 0],\n",
       " [0, 0, 0, 0, 0, -6, 0, 0, 0, 0, 0, 0, 0, 0, 0, 0, 3, 0, 3, 0, 0, 0],\n",
       " [0, 0, 0, 0, 0, 0, -6, 0, 0, 0, 0, 0, 0, 0, 0, 0, 0, 3, 0, 0, 0, 0],\n",
       " [-10, 0, 0, 0, 0, 0, 0, 0, 0, 3, 0, 0, 0, 0, 0, 0, 0, 0, 0, 0, 3, 0],\n",
       " [0, 0, 0, 0, 0, 0, 0, -6, 0, 0, 0, 0, 0, 0, 0, 0, 0, 0, 0, 3, 0, 3],\n",
       " [0, 0, 0, 0, 0, 0, 0, 0, -6, 0, 0, 0, 0, 0, 0, 0, 0, 0, 0, 0, 3, 0]]"
      ]
     },
     "execution_count": 9,
     "metadata": {},
     "output_type": "execute_result"
    }
   ],
   "source": [
    "task_log[\"relation_matrix\"]"
   ]
  },
  {
   "cell_type": "code",
   "execution_count": 10,
   "metadata": {},
   "outputs": [
    {
     "data": {
      "text/plain": [
       "({1: 'hip_1',\n",
       "  2: 'ankle_1',\n",
       "  3: 'hip_2',\n",
       "  4: 'ankle_2',\n",
       "  5: 'hip_3',\n",
       "  6: 'ankle_3',\n",
       "  7: 'hip_4',\n",
       "  8: 'ankle_4',\n",
       "  9: 'torso',\n",
       "  10: 'front_left_leg',\n",
       "  11: 'aux_1',\n",
       "  12: 'front_left_foot',\n",
       "  13: 'front_right_leg',\n",
       "  14: 'aux_2',\n",
       "  15: 'front_right_foot',\n",
       "  16: 'left_back_leg',\n",
       "  17: 'aux_3',\n",
       "  18: 'left_back_foot',\n",
       "  19: 'right_back_leg',\n",
       "  20: 'aux_4',\n",
       "  21: 'right_back_foot',\n",
       "  0: 'root'},\n",
       " {'red': [0],\n",
       "  'blue': [1, 2, 3, 4, 5, 6, 7, 8],\n",
       "  'black': [9, 10, 11, 12, 13, 14, 15, 16, 17, 18, 19, 20, 21]})"
      ]
     },
     "execution_count": 10,
     "metadata": {},
     "output_type": "execute_result"
    }
   ],
   "source": [
    "edge_colors = {\n",
    "    10:\"blue\", # root-body\n",
    "    3:\"green\", # body-body\n",
    "    6:\"blue\", # joint-body\n",
    "}\n",
    "node_colors = {\n",
    "    \"red\": task_log[\"node_type_dict\"][\"root\"],\n",
    "    \"blue\": task_log[\"node_type_dict\"][\"joint\"],\n",
    "    \"black\": task_log[\"node_type_dict\"][\"body\"],\n",
    "}\n",
    "\n",
    "node_names = {node[\"id\"]: node[\"raw_name\"] for node in task_log[\"tree\"] if \"raw_name\" in node.keys()}\n",
    "node_names[0] = \"root\"\n",
    "node_names, node_colors"
   ]
  },
  {
   "cell_type": "code",
   "execution_count": 11,
   "metadata": {},
   "outputs": [],
   "source": [
    "G = nx.Graph()\n",
    "\n",
    "for i in range(task_log[\"num_nodes\"]):\n",
    "    G.add_node(i)\n",
    "    for j in range(i, task_log[\"num_nodes\"]):\n",
    "        if task_log[\"relation_matrix\"][i][j] != 0:\n",
    "            G.add_edge(i, j)#, color= edge_colors[task_log[\"relation_matrix\"][i][j]])"
   ]
  },
  {
   "cell_type": "code",
   "execution_count": 21,
   "metadata": {},
   "outputs": [
    {
     "data": {
      "image/png": "[encoded data removed]",
      "text/plain": [
       "<Figure size 720x720 with 1 Axes>"
      ]
     },
     "metadata": {},
     "output_type": "display_data"
    }
   ],
   "source": [
    "\n",
    "plt.figure(figsize=(10, 10))\n",
    "pos = nx.spring_layout(G, pos={0: np.array([ 0, 0])})\n",
    "\n",
    "options = {\"node_size\": 100, \"alpha\": 0.8}\n",
    "for color, nodes in node_colors.items():\n",
    "    nx.draw_networkx_nodes(G, pos, nodelist=nodes, node_color=color, **options)\n",
    "    nx.draw_networkx_nodes(G, pos, nodelist=nodes, node_color=color, **options)\n",
    "\n",
    "    \n",
    "nx.draw_networkx_edges(G, pos, width=1.0, alpha=0.5)\n",
    "\n",
    "for p in pos:  # raise text positions\n",
    "    pos[p][1] += 0.055\n",
    "nx.draw_networkx_labels(G, pos, node_names, font_size=10)\n",
    "    \n",
    "plt.axis(\"off\")\n",
    "plt.show()"
   ]
  },
  {
   "cell_type": "code",
   "execution_count": null,
   "metadata": {},
   "outputs": [],
   "source": []
  },
  {
   "cell_type": "code",
   "execution_count": null,
   "metadata": {},
   "outputs": [],
   "source": []
  },
  {
   "cell_type": "code",
   "execution_count": null,
   "metadata": {},
   "outputs": [],
   "source": []
  }
 ],
 "metadata": {
  "kernelspec": {
   "display_name": "adlr",
   "language": "python",
   "name": "adlr"
  },
  "language_info": {
   "codemirror_mode": {
    "name": "ipython",
    "version": 3
   },
   "file_extension": ".py",
   "mimetype": "text/x-python",
   "name": "python",
   "nbconvert_exporter": "python",
   "pygments_lexer": "ipython3",
   "version": "3.6.10"
  }
 },
 "nbformat": 4,
 "nbformat_minor": 4
}
